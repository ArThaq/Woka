{
 "cells": [
  {
   "cell_type": "markdown",
   "metadata": {},
   "source": [
    "# <center> Chapitre 7 : Tableaux - TP </center>"
   ]
  },
  {
   "cell_type": "markdown",
   "metadata": {},
   "source": [
    "## Exercice 1 : Traitement de notes*\n",
    "### Question 1 : Moyenne\n",
    "\n",
    "Voici les notes d'un étudiant sous forme d'un tableau :\n",
    "`[8,4,12,12,9,15,19,11,19,4,18,12,19,3,5]`. <br>\n",
    "Écrire un programme qui affiche la note maximum, la note\n",
    "minimum et la moyenne."
   ]
  },
  {
   "cell_type": "code",
   "execution_count": 14,
   "metadata": {},
   "outputs": [
    {
     "name": "stdout",
     "output_type": "stream",
     "text": [
      "19 3 11.333333333333334\n",
      "True\n"
     ]
    }
   ],
   "source": [
    "notes = [8,4,12,12,9,15,19,11,19,4,18,12,19,3,5]\n",
    "n = len(notes)\n",
    "i = 0\n",
    "somme = 0\n",
    "maxi = 0\n",
    "mini = 20\n",
    "while i <= n - 1 :\n",
    "    somme += notes[i]\n",
    "    if notes[i] > maxi :\n",
    "        maxi = notes[i]\n",
    "    if notes[i] < mini :\n",
    "        mini = notes[i]\n",
    "    i += 1\n",
    "moyenne = somme/n\n",
    "print(maxi, mini, moyenne)\n",
    "    \n",
    "#----------------------------------#\n",
    "# Test Final devant afficher True  #\n",
    "#----------------------------------#\n",
    "print( maxi == 19 and mini == 3  and moyenne == 34/3)"
   ]
  },
  {
   "cell_type": "markdown",
   "metadata": {},
   "source": [
    "### Question 2 : Mention\n",
    "\n",
    "Améliorer le programme précédent en ajoutant la mention :\n",
    "redouble (moins de 10), passable (entre 10 et 12),\n",
    "assez bien (entre 12 et 14), bien (entre 14 et 16)\n",
    "et très bien (plus de 16)."
   ]
  },
  {
   "cell_type": "code",
   "execution_count": 10,
   "metadata": {},
   "outputs": [
    {
     "name": "stdout",
     "output_type": "stream",
     "text": [
      "19 3 11.0 Passable\n"
     ]
    }
   ],
   "source": [
    "notes = [8,4,12,12,9,15,19,11,19,4,18,12,19,3,5]\n",
    "n = len(notes)\n",
    "i = 0\n",
    "somme = 0\n",
    "maxi = 0\n",
    "mini = 20\n",
    "while i < n - 1 :\n",
    "    somme += notes[i]\n",
    "    if notes[i] > maxi :\n",
    "        maxi = notes[i]\n",
    "    if notes[i] < mini :\n",
    "        mini = notes[i]\n",
    "    i += 1\n",
    "moyenne = somme/n\n",
    "if moyenne >= 16 :\n",
    "    mention = \"Tres bien\"\n",
    "elif moyenne >= 14 :\n",
    "    mention = \"Bien\"\n",
    "elif moyenne >= 12 :\n",
    "    mention = \"Assez bien\"\n",
    "elif moyenne >= 10 :\n",
    "    mention = \"Passable\"\n",
    "else :\n",
    "    mention = \"Redouble\"\n",
    "print(maxi, mini, moyenne, mention)"
   ]
  },
  {
   "cell_type": "markdown",
   "metadata": {},
   "source": [
    "## Exercice 2 : Nombre de jours du mois*\n",
    "\n",
    "Soit"
   ]
  },
  {
   "cell_type": "code",
   "execution_count": 1,
   "metadata": {},
   "outputs": [],
   "source": [
    "jours = [31, 28, 31, 30, 31, 30, 31, 31, 30, 31, 30, 31]\n",
    "mois = [\"janvier\", \"février\", \"mars\", \"avril\", \"mai\", \"juin\",\n",
    "        \"juillet\", \"août\", \"septembre\", \"octobre\", \"novembre\", \"décembre\"]"
   ]
  },
  {
   "cell_type": "markdown",
   "metadata": {},
   "source": [
    "Créer un tableau qui alterne les éléments de `jours` et `mois` : `[\"janvier\", 31, \"février\", 28, ...]`"
   ]
  },
  {
   "cell_type": "code",
   "execution_count": 13,
   "metadata": {},
   "outputs": [
    {
     "name": "stdout",
     "output_type": "stream",
     "text": [
      "['janvier', 31, 'février', 28, 'mars', 31, 'avril', 30, 'mai', 31, 'juin', 30, 'juillet', 31, 'août', 31, 'septembre', 30, 'octobre', 31, 'novembre', 30, 'décembre', 31]\n"
     ]
    }
   ],
   "source": [
    "jours = [31, 28, 31, 30, 31, 30, 31, 31, 30, 31, 30, 31]\n",
    "mois = [\"janvier\", \"février\", \"mars\", \"avril\", \"mai\", \"juin\",\n",
    "        \"juillet\", \"août\", \"septembre\", \"octobre\", \"novembre\", \"décembre\"]\n",
    "n = len(jours)\n",
    "i = 0\n",
    "joursmois = []\n",
    "while i <= n - 1 :\n",
    "    joursmois.append(mois[i])\n",
    "    joursmois.append(jours[i])\n",
    "    i += 1\n",
    "print(joursmois)"
   ]
  },
  {
   "cell_type": "markdown",
   "metadata": {},
   "source": [
    "## Exercice 3 : Prénoms**\n",
    "### Question 1 : Longueur des prénoms\n",
    "\n",
    "Créer un tableau qui contient la liste de prénom suivants dans cet ordre:<br>\n",
    "```\n",
    "Jean, Isidore, Vanessa, Anne, Maximilien, Alexandre-Benoît, Louise.\n",
    "```\n",
    "Écrire un programme qui affiche la longueur des prénoms stockés dans ce tableau sous la forme  <br>\n",
    "```\n",
    "longueur de Jean : 4 \n",
    "longueur d'Isidore : 7 \n",
    "```\n",
    "**Attention** à l'élision de `de` en `d'` devant une voyelle."
   ]
  },
  {
   "cell_type": "code",
   "execution_count": 27,
   "metadata": {},
   "outputs": [
    {
     "name": "stdout",
     "output_type": "stream",
     "text": [
      "longueur de Jean  :  4\n",
      "longueur d'Isidore  :  7\n",
      "longueur de Vanessa  :  7\n",
      "longueur d'Anne  :  4\n",
      "longueur de Maximilien  :  10\n",
      "longueur d'Alexandre-Benoît  :  16\n",
      "longueur de Louise  :  6\n"
     ]
    }
   ],
   "source": [
    "nom = [\"Jean\", \"Isidore\", \"Vanessa\", \"Anne\", \"Maximilien\", \"Alexandre-Benoît\", \"Louise\"]\n",
    "n = len(nom)\n",
    "i = 0\n",
    "while i <= n - 1 :\n",
    "    if nom[i][0] == 'A' or nom[i][0] == 'E' or nom[i][0] == 'I' or nom[i][0] == 'O' or nom[i][0] == 'U' or nom[i][0] == 'Y' :\n",
    "        print(\"longueur d'\" +nom[i],\" : \", len(nom[i]))\n",
    "    else :\n",
    "        print(\"longueur de\",nom[i],\" : \", len(nom[i]))\n",
    "    i += 1"
   ]
  },
  {
   "cell_type": "markdown",
   "metadata": {},
   "source": [
    "### Question 2 :  Tri de prénoms\n",
    "\n",
    "À partir du tableau de prénoms précédent, créer deux tableaux :\n",
    "un qui contient ceux qui comptent moins de six lettres,\n",
    "l'autre le reste."
   ]
  },
  {
   "cell_type": "code",
   "execution_count": 15,
   "metadata": {},
   "outputs": [
    {
     "name": "stdout",
     "output_type": "stream",
     "text": [
      "J\n"
     ]
    },
    {
     "ename": "NameError",
     "evalue": "name 'petits' is not defined",
     "output_type": "error",
     "traceback": [
      "\u001b[1;31m---------------------------------------------------------------------------\u001b[0m",
      "\u001b[1;31mNameError\u001b[0m                                 Traceback (most recent call last)",
      "\u001b[1;32m<ipython-input-15-ce29bff9b13d>\u001b[0m in \u001b[0;36m<module>\u001b[1;34m\u001b[0m\n\u001b[0;32m      6\u001b[0m \u001b[1;31m# Test Final devant afficher True  #\u001b[0m\u001b[1;33m\u001b[0m\u001b[1;33m\u001b[0m\u001b[1;33m\u001b[0m\u001b[0m\n\u001b[0;32m      7\u001b[0m \u001b[1;31m#----------------------------------#\u001b[0m\u001b[1;33m\u001b[0m\u001b[1;33m\u001b[0m\u001b[1;33m\u001b[0m\u001b[0m\n\u001b[1;32m----> 8\u001b[1;33m print( petits == [\"Jean\", \"Anne\"] and \n\u001b[0m\u001b[0;32m      9\u001b[0m       grands == [\"Isidore\", \"Vanessa\", \"Maximilien\", \"Alexandre-Benoît\", \"Louise\"] )\n",
      "\u001b[1;31mNameError\u001b[0m: name 'petits' is not defined"
     ]
    }
   ],
   "source": [
    "\n",
    "\n",
    "#----------------------------------#\n",
    "# Test Final devant afficher True  #\n",
    "#----------------------------------#\n",
    "print( petits == [\"Jean\", \"Anne\"] and \n",
    "      grands == [\"Isidore\", \"Vanessa\", \"Maximilien\", \"Alexandre-Benoît\", \"Louise\"] )"
   ]
  },
  {
   "cell_type": "markdown",
   "metadata": {},
   "source": [
    "## Exercice 4 :  Lecture/Écriture dans un fichier**\n",
    "\n",
    "### Question 1: Écriture dans un fichier*\n",
    "Définir un programme qui écrit dans un fichier nommé `'prenoms.txt'` les prénoms contenus dans le tableau initial de l'exercice précédant. Chaque prénom sera écrit sur une ligne différente:"
   ]
  },
  {
   "cell_type": "code",
   "execution_count": null,
   "metadata": {},
   "outputs": [],
   "source": [
    "#-------------------------#\n",
    "#    Écrire le code ici   #\n",
    "#-------------------------#\n",
    "\n",
    "\n",
    "\n"
   ]
  },
  {
   "cell_type": "markdown",
   "metadata": {},
   "source": [
    "### Question 2:  Lecture dans un fichier*\n",
    "\n",
    "Définir un programme qui lit les prénoms du fichier `'prenoms.txt'` et qui affiche en plus du prénom lu le nombre de caractères qui le constitue. Chaque prénom et son nombre de caractère seront affichés sur une ligne différente et séparés par une virgule."
   ]
  },
  {
   "cell_type": "code",
   "execution_count": null,
   "metadata": {},
   "outputs": [],
   "source": [
    "#-------------------------#\n",
    "#    Écrire le code ici   #\n",
    "#-------------------------#\n",
    "\n",
    "\n",
    "\n"
   ]
  },
  {
   "cell_type": "markdown",
   "metadata": {},
   "source": [
    "### Question 3: Lecture et Ecriture dans un fichier**\n",
    "\n",
    "Définir un programme qui, au moyen d'une seule boucle, lit les prénoms du fichier `prenoms.txt` et qui écrit dans un fichier 'prenoms.csv' en plus du prénom le nombre de caractère qui le constitue. Sur chaque ligne du fichier le prénom et sa longueur sont séparé par une virgule."
   ]
  },
  {
   "cell_type": "code",
   "execution_count": 1,
   "metadata": {},
   "outputs": [],
   "source": [
    "#-------------------------#\n",
    "#    Écrire le code ici   #\n",
    "#-------------------------#\n",
    "\n",
    "\n",
    "\n"
   ]
  },
  {
   "cell_type": "markdown",
   "metadata": {},
   "source": [
    "## Exercice 5 : Occurrences**\n",
    "\n",
    "Vérifier si un mot saisi apparaît dans le tableau\n",
    "`[\"girafe\", \"chien\", \"hippo\", \"singe\", \"chat\", \"chien\"]`\n",
    "et le nombre d'occurences. <br>\n",
    "Par exemple si on saisit `chien` l'affichage doit être\n",
    "`chien apparaît 2 fois` ; pour `lapin`, `lapin n'apparaît pas`."
   ]
  },
  {
   "cell_type": "code",
   "execution_count": null,
   "metadata": {},
   "outputs": [],
   "source": [
    "#-------------------------#\n",
    "#    Écrire le code ici   #\n",
    "#-------------------------#\n",
    "\n",
    "\n",
    "\n"
   ]
  },
  {
   "cell_type": "markdown",
   "metadata": {},
   "source": [
    "## Exercice 6 : Palindrome**\n",
    "\n",
    "\n",
    "Vérifier si un mot est un palindrome, c'est-à-dire\n",
    "se lit de même dans les deux sens, comme `radar` et `rotor`."
   ]
  },
  {
   "cell_type": "code",
   "execution_count": 1,
   "metadata": {},
   "outputs": [],
   "source": [
    "#-------------------------#\n",
    "#    Écrire le code ici   #\n",
    "#-------------------------#\n",
    "\n",
    "\n",
    "\n"
   ]
  }
 ],
 "metadata": {
  "kernelspec": {
   "display_name": "Python 3",
   "language": "python",
   "name": "python3"
  },
  "language_info": {
   "codemirror_mode": {
    "name": "ipython",
    "version": 3
   },
   "file_extension": ".py",
   "mimetype": "text/x-python",
   "name": "python",
   "nbconvert_exporter": "python",
   "pygments_lexer": "ipython3",
   "version": "3.8.3"
  },
  "latex_envs": {
   "LaTeX_envs_menu_present": true,
   "autoclose": false,
   "autocomplete": true,
   "bibliofile": "biblio.bib",
   "cite_by": "apalike",
   "current_citInitial": 1,
   "eqLabelWithNumbers": true,
   "eqNumInitial": 1,
   "hotkeys": {
    "equation": "Ctrl-E",
    "itemize": "Ctrl-I"
   },
   "labels_anchors": false,
   "latex_user_defs": false,
   "report_style_numbering": false,
   "user_envs_cfg": false
  },
  "toc": {
   "base_numbering": 1,
   "nav_menu": {},
   "number_sections": true,
   "sideBar": true,
   "skip_h1_title": false,
   "title_cell": "Table of Contents",
   "title_sidebar": "Contents",
   "toc_cell": false,
   "toc_position": {},
   "toc_section_display": true,
   "toc_window_display": false
  }
 },
 "nbformat": 4,
 "nbformat_minor": 2
}
