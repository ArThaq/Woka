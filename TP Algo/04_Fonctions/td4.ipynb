{
 "cells": [
  {
   "cell_type": "markdown",
   "metadata": {
    "collapsed": true,
    "deletable": false,
    "editable": false
   },
   "source": [
    "# <center> Chapitre 4 : Fonctions - TD </center>"
   ]
  },
  {
   "cell_type": "markdown",
   "metadata": {
    "deletable": false,
    "editable": false
   },
   "source": [
    "## Exercice 1 : Test de compréhension*"
   ]
  },
  {
   "cell_type": "markdown",
   "metadata": {
    "deletable": false,
    "editable": false
   },
   "source": [
    "### Question 1\n",
    "\n",
    "Quelle est la différence entre définition et appel d'une fonction ?"
   ]
  },
  {
   "cell_type": "markdown",
   "metadata": {},
   "source": [
    "La définition permet de définir le nom et les types de paramètres de la fonction. L'appel permet d'effectuer les instructions de la fonction avec les paramètres entrés."
   ]
  },
  {
   "cell_type": "markdown",
   "metadata": {
    "deletable": false,
    "editable": false
   },
   "source": [
    "### Question 2\n",
    "\n",
    "Qu'est-ce que l'en-tête d'une fonction ? Qu'est-ce que le corps d'une fonction ?"
   ]
  },
  {
   "cell_type": "markdown",
   "metadata": {},
   "source": [
    "En-tête : Nom et paramètres de la fonction\n",
    "Corps : Instructions de la fonction"
   ]
  },
  {
   "cell_type": "markdown",
   "metadata": {
    "deletable": false,
    "editable": false
   },
   "source": [
    "### Question 3\n",
    "\n",
    "Qu'est-ce qu'un algorithme appelant ?"
   ]
  },
  {
   "cell_type": "markdown",
   "metadata": {},
   "source": [
    "Il appelle une autre fonction"
   ]
  },
  {
   "cell_type": "markdown",
   "metadata": {
    "deletable": false,
    "editable": false
   },
   "source": [
    "### Question 4\n",
    "\n",
    "Les parenthèses sont-elles obligatoires dans la définition d'une fonction s'il n'y a pas de paramètres ? Sont-elles nécessaires dans un appel de fonction s'il n'y a pas de valeurs de paramètre ?"
   ]
  },
  {
   "cell_type": "markdown",
   "metadata": {},
   "source": [
    "Oui et oui."
   ]
  },
  {
   "cell_type": "markdown",
   "metadata": {
    "deletable": false,
    "editable": false
   },
   "source": [
    "### Question 5\n",
    "\n",
    "Combien de fois une fonction peut-elle être appelée au\n",
    "minimum ? Au maximum ? Donner deux exemples où une fonction est\n",
    "appelée 100 fois, un avec les mêmes valeurs de paramètre pour tous\n",
    "les appels, puis l'autre avec des différentes valeurs de paramètre\n",
    "à chaque appel."
   ]
  },
  {
   "cell_type": "code",
   "execution_count": 19,
   "metadata": {},
   "outputs": [
    {
     "name": "stdout",
     "output_type": "stream",
     "text": [
      "1\n",
      "2\n",
      "3\n",
      "4\n",
      "5\n",
      "6\n",
      "7\n",
      "8\n",
      "9\n",
      "10\n",
      "11\n",
      "12\n",
      "13\n",
      "14\n",
      "15\n",
      "16\n",
      "17\n",
      "18\n",
      "19\n",
      "20\n",
      "21\n",
      "22\n",
      "23\n",
      "24\n",
      "25\n",
      "26\n",
      "27\n",
      "28\n",
      "29\n",
      "30\n",
      "31\n",
      "32\n",
      "33\n",
      "34\n",
      "35\n",
      "36\n",
      "37\n",
      "38\n",
      "39\n",
      "40\n",
      "41\n",
      "42\n",
      "43\n",
      "44\n",
      "45\n",
      "46\n",
      "47\n",
      "48\n",
      "49\n",
      "50\n",
      "51\n",
      "52\n",
      "53\n",
      "54\n",
      "55\n",
      "56\n",
      "57\n",
      "58\n",
      "59\n",
      "60\n",
      "61\n",
      "62\n",
      "63\n",
      "64\n",
      "65\n",
      "66\n",
      "67\n",
      "68\n",
      "69\n",
      "70\n",
      "71\n",
      "72\n",
      "73\n",
      "74\n",
      "75\n",
      "76\n",
      "77\n",
      "78\n",
      "79\n",
      "80\n",
      "81\n",
      "82\n",
      "83\n",
      "84\n",
      "85\n",
      "86\n",
      "87\n",
      "88\n",
      "89\n",
      "90\n",
      "91\n",
      "92\n",
      "93\n",
      "94\n",
      "95\n",
      "96\n",
      "97\n",
      "98\n",
      "99\n"
     ]
    }
   ],
   "source": [
    "def centfois(x) :\n",
    "    while x <= 100 :\n",
    "        print(x)\n",
    "        x += 1\n",
    "        \n",
    "centfois(1)"
   ]
  },
  {
   "cell_type": "markdown",
   "metadata": {
    "deletable": false,
    "editable": false,
    "run_control": {
     "frozen": true
    }
   },
   "source": [
    "### Question 6"
   ]
  },
  {
   "cell_type": "markdown",
   "metadata": {},
   "source": [
    "Dans le code suivant, donner, pour la fonction `somme2nb`, les numéros des lignes associées à l'en-tête, au corps de la fonction, à la définition et à l'appel de la fonction. Indiquer également le programme appelant. Donner finalement ses paramètres et ses valeurs d'entrée lors de son appel. Répondre ensuite aux mêmes questions pour la fonction `afficheRes`."
   ]
  },
  {
   "cell_type": "code",
   "execution_count": 2,
   "metadata": {
    "deletable": false,
    "editable": false
   },
   "outputs": [
    {
     "name": "stdout",
     "output_type": "stream",
     "text": [
      "Premier nombre =  1 , deuxième nombre =  2\n",
      "Le résultat est  3\n"
     ]
    }
   ],
   "source": [
    "def afficheRes(nb): \n",
    "    print(\"Le résultat est \", nb) \n",
    "\n",
    "\n",
    "def somme2nb(a, b): \n",
    "    print(\"Premier nombre = \", a, \", deuxième nombre = \", b) \n",
    "    afficheRes(a + b)\n",
    "\n",
    "\n",
    "somme2nb(1, 2)"
   ]
  },
  {
   "cell_type": "markdown",
   "metadata": {
    "deletable": false,
    "editable": false,
    "run_control": {
     "frozen": true
    }
   },
   "source": [
    "## Exercice 2 : Nombre d'appels*"
   ]
  },
  {
   "cell_type": "markdown",
   "metadata": {
    "deletable": false,
    "editable": false,
    "run_control": {
     "frozen": true
    }
   },
   "source": [
    "### Question 1"
   ]
  },
  {
   "cell_type": "markdown",
   "metadata": {
    "deletable": false,
    "editable": false,
    "run_control": {
     "frozen": true
    }
   },
   "source": [
    "À l'exécution du code suivant :\n",
    "* combien de fois la fonction `f1` est-elle appelée ? \n",
    "* combien de fois est affiché le mot hello ?"
   ]
  },
  {
   "cell_type": "code",
   "execution_count": 3,
   "metadata": {
    "deletable": false,
    "editable": false
   },
   "outputs": [
    {
     "name": "stdout",
     "output_type": "stream",
     "text": [
      "hello\n"
     ]
    }
   ],
   "source": [
    "def f1():\n",
    "    print(\"hello\")\n",
    "    print(\"hello\")\n",
    "\n",
    "\n",
    "print(\"hello\")"
   ]
  },
  {
   "cell_type": "markdown",
   "metadata": {},
   "source": [
    "f1 : 0\n",
    "hello : 1"
   ]
  },
  {
   "cell_type": "markdown",
   "metadata": {
    "deletable": false,
    "editable": false,
    "run_control": {
     "frozen": true
    }
   },
   "source": [
    "### Question 2"
   ]
  },
  {
   "cell_type": "markdown",
   "metadata": {
    "deletable": false,
    "editable": false,
    "run_control": {
     "frozen": true
    }
   },
   "source": [
    "À l'exécution du code suivant :\n",
    "* combien de fois la fonction `f2` est-elle appelée ? \n",
    "* combien de fois est affiché le mot hello ?"
   ]
  },
  {
   "cell_type": "code",
   "execution_count": 4,
   "metadata": {
    "deletable": false,
    "editable": false
   },
   "outputs": [
    {
     "name": "stdout",
     "output_type": "stream",
     "text": [
      "hello\n",
      "hello\n",
      "hello\n",
      "hello\n",
      "hello\n"
     ]
    }
   ],
   "source": [
    "def f2():\n",
    "    print(\"hello\")\n",
    "    print(\"hello\")\n",
    "\n",
    "\n",
    "print(\"hello\")\n",
    "f2()\n",
    "f2()"
   ]
  },
  {
   "cell_type": "markdown",
   "metadata": {},
   "source": [
    "f2 : 2\n",
    "hello : 5"
   ]
  },
  {
   "cell_type": "markdown",
   "metadata": {
    "deletable": false,
    "editable": false,
    "run_control": {
     "frozen": true
    }
   },
   "source": [
    "### Question 3"
   ]
  },
  {
   "cell_type": "markdown",
   "metadata": {
    "deletable": false,
    "editable": false,
    "run_control": {
     "frozen": true
    }
   },
   "source": [
    "À l'exécution du code suivant :\n",
    "* combien de fois sont appelées `f3` et `f4` ?\n",
    "* combien de fois est affiché le mot hello ? "
   ]
  },
  {
   "cell_type": "code",
   "execution_count": 5,
   "metadata": {
    "deletable": false,
    "editable": false
   },
   "outputs": [
    {
     "name": "stdout",
     "output_type": "stream",
     "text": [
      "hello\n",
      "hello\n",
      "hello\n",
      "hello\n",
      "hello\n",
      "hello\n",
      "hello\n",
      "hello\n"
     ]
    }
   ],
   "source": [
    "def f3():\n",
    "    print(\"hello\")\n",
    "    print(\"hello\")\n",
    "\n",
    "\n",
    "def f4():\n",
    "    f3()\n",
    "    print(\"hello\")\n",
    "    f3()\n",
    "\n",
    "\n",
    "print(\"hello\")\n",
    "f3()\n",
    "f4()"
   ]
  },
  {
   "cell_type": "markdown",
   "metadata": {},
   "source": [
    "f3 : 3\n",
    "f4 : 1\n",
    "hello : 8"
   ]
  },
  {
   "cell_type": "markdown",
   "metadata": {
    "deletable": false,
    "editable": false,
    "run_control": {
     "frozen": true
    }
   },
   "source": [
    "### Question 4"
   ]
  },
  {
   "cell_type": "markdown",
   "metadata": {
    "deletable": false,
    "editable": false,
    "run_control": {
     "frozen": true
    }
   },
   "source": [
    "À l'exécution du code suivant :\n",
    "* combien de fois sont appelées `f5` et `f6` ?\n",
    "* combien de fois est affiché le mot hello ? "
   ]
  },
  {
   "cell_type": "code",
   "execution_count": 6,
   "metadata": {
    "deletable": false,
    "editable": false
   },
   "outputs": [
    {
     "name": "stdout",
     "output_type": "stream",
     "text": [
      "hello\n",
      "hello\n",
      "hello\n",
      "hello\n",
      "hello\n",
      "hello\n",
      "hello\n",
      "hello\n",
      "hello\n",
      "hello\n",
      "hello\n",
      "hello\n",
      "hello\n",
      "hello\n",
      "hello\n",
      "hello\n",
      "hello\n",
      "hello\n",
      "hello\n",
      "hello\n",
      "hello\n"
     ]
    }
   ],
   "source": [
    "def f5():\n",
    "    print(\"hello\")\n",
    "    print(\"hello\")\n",
    "\n",
    "\n",
    "def f6(n):\n",
    "    i = 0\n",
    "    while i < n:\n",
    "        f5()\n",
    "        i = i + 1\n",
    "        print(\"hello\")\n",
    "\n",
    "\n",
    "# Algorithme principal\n",
    "print(\"hello\")\n",
    "f5()\n",
    "f6(2)\n",
    "f6(4)"
   ]
  },
  {
   "cell_type": "markdown",
   "metadata": {},
   "source": [
    "f5 : 7\n",
    "f6 : 2\n",
    "hello : 21"
   ]
  },
  {
   "cell_type": "markdown",
   "metadata": {
    "deletable": false,
    "editable": false,
    "run_control": {
     "frozen": true
    }
   },
   "source": [
    "## Exercice 3 : Valeur de paramètres*"
   ]
  },
  {
   "cell_type": "markdown",
   "metadata": {
    "deletable": false,
    "editable": false,
    "run_control": {
     "frozen": true
    }
   },
   "source": [
    "Qu'affiche le code suivant ?"
   ]
  },
  {
   "cell_type": "code",
   "execution_count": 7,
   "metadata": {
    "deletable": false,
    "editable": false
   },
   "outputs": [
    {
     "name": "stdout",
     "output_type": "stream",
     "text": [
      "a =  5\n"
     ]
    }
   ],
   "source": [
    "def f(a):\n",
    "    print(\"a = \", a)\n",
    "\n",
    "\n",
    "# Algorithme principal\n",
    "a = 3\n",
    "b = 5\n",
    "a = 18\n",
    "f(b)"
   ]
  },
  {
   "cell_type": "markdown",
   "metadata": {
    "deletable": false,
    "editable": false,
    "run_control": {
     "frozen": true
    }
   },
   "source": [
    "Qu'affiche le code suivant ?\n"
   ]
  },
  {
   "cell_type": "code",
   "execution_count": 8,
   "metadata": {
    "deletable": false,
    "editable": false
   },
   "outputs": [
    {
     "name": "stdout",
     "output_type": "stream",
     "text": [
      "a =  3 , b =  4\n",
      "a =  4 , b =  3\n",
      "a =  3 , b =  3\n",
      "a =  6 , b =  1\n"
     ]
    }
   ],
   "source": [
    "def f(a, b):\n",
    "    print(\"a = \", a, \", b = \", b)\n",
    "\n",
    "\n",
    "# Algorithme principal\n",
    "a = 3\n",
    "b = 4\n",
    "f(a, b)\n",
    "f(b, a)\n",
    "f(a, a)\n",
    "f(b + 2, b - 3)"
   ]
  },
  {
   "cell_type": "markdown",
   "metadata": {
    "deletable": false,
    "editable": false,
    "run_control": {
     "frozen": true
    }
   },
   "source": [
    "## Exercice 4 :  Portée des variables*\n",
    "\n",
    "Qu'affiche le code suivant ?"
   ]
  },
  {
   "cell_type": "code",
   "execution_count": 9,
   "metadata": {
    "deletable": false,
    "editable": false
   },
   "outputs": [
    {
     "name": "stdout",
     "output_type": "stream",
     "text": [
      "a =  18\n",
      "a =  5\n"
     ]
    }
   ],
   "source": [
    "def f():\n",
    "    a = 18\n",
    "    print(\"a = \", a)\n",
    "\n",
    "\n",
    "# Algorithme principal\n",
    "a = 5\n",
    "f()\n",
    "print(\"a = \", a)"
   ]
  },
  {
   "cell_type": "markdown",
   "metadata": {
    "deletable": false,
    "editable": false
   },
   "source": [
    "## Exercice 6 : Comparer deux nombres*\n",
    "\n",
    "Écrire la fonction `compare()` qui reçoit deux nombres entiers en paramètre `a` et `b` et affiche un message adapté selon que `a` est supérieur, inférieur ou égal à `b`. "
   ]
  },
  {
   "cell_type": "code",
   "execution_count": 20,
   "metadata": {},
   "outputs": [
    {
     "name": "stdout",
     "output_type": "stream",
     "text": [
      "5  est égal à  5\n",
      "9  est supérieur à  6\n",
      "5  est inférieur à  7\n"
     ]
    }
   ],
   "source": [
    "def compare(a, b) :\n",
    "    if a == b :\n",
    "        print(a, \" est égal à \", b)\n",
    "    elif a > b :\n",
    "        print(a, \" est supérieur à \", b)\n",
    "    else :\n",
    "        print(a, \" est inférieur à \", b)\n",
    "\n",
    "compare(5,5)\n",
    "compare(9,6)\n",
    "compare(5,7)"
   ]
  },
  {
   "cell_type": "markdown",
   "metadata": {
    "deletable": false,
    "editable": false
   },
   "source": [
    "#  Pour aller plus loin"
   ]
  },
  {
   "cell_type": "markdown",
   "metadata": {},
   "source": [
    "## Exercice 6 : Aligner à droite**"
   ]
  },
  {
   "cell_type": "markdown",
   "metadata": {
    "deletable": false,
    "editable": false
   },
   "source": [
    "1. Définir la fonction `aligner_droite` prenant en paramètre un message (chaîne de caractères) et un nombre `n` de caractères et affichant le message sur `n` caractères aligné à droite. \n",
    "Si le nombre `n` est plus petit que la taille du message, l'affichage du message est classique. Autrement, des espaces sont ajoutés avant pour aligner le message à droite.\n",
    "\n",
    "2. Appeler cette fonction pour aligner sur 12 caractères les messages Bonjour, Hello, Hallo et Buongiorno, alignés à droite de sorte à obtenir l'affichage suivant : \n",
    "```\n",
    "      Bonjour\n",
    "        Hello\n",
    "        Hallo\n",
    "   Buongiorno\n",
    "```"
   ]
  },
  {
   "cell_type": "code",
   "execution_count": 29,
   "metadata": {},
   "outputs": [
    {
     "name": "stdout",
     "output_type": "stream",
     "text": [
      "     Bonjour\n",
      "       Hello\n",
      "       Hallo\n",
      "  Buongiorno\n"
     ]
    }
   ],
   "source": [
    "def aligner_droite(m, n) :\n",
    "    if n < len(m) :\n",
    "        print(m)\n",
    "    else :\n",
    "        print(m.rjust(n))\n",
    "    \n",
    "aligner_droite(\"Bonjour\", 12)\n",
    "aligner_droite(\"Hello\", 12)\n",
    "aligner_droite(\"Hallo\", 12)\n",
    "aligner_droite(\"Buongiorno\", 12)"
   ]
  },
  {
   "cell_type": "markdown",
   "metadata": {
    "deletable": false,
    "editable": false,
    "run_control": {
     "frozen": true
    }
   },
   "source": [
    "## Exercice 7 : Addition unaire*"
   ]
  },
  {
   "cell_type": "markdown",
   "metadata": {
    "deletable": false,
    "editable": false
   },
   "source": [
    "Un nombre positif ou nul est représenté en base unaire par autant de symboles 0 que la valeur du nombre. Ainsi, la représentation uniaire de 5 est : \"00000\".\n",
    "\n",
    "1. Définir la fonction `affiche_unaire` prenant en paramètre un nombre et affichant ce nombre en unaire.\n",
    "2. Définir la fonction `addition_unaire` prenant en paramètre deux nombres et affichant ces deux nombres en base unaire ainsi que leur somme. Par exemple, l'appel de la fonction avec les valeurs 7 et 5 doit donner l'affichage suivant :\n",
    "```\n",
    "0000000\n",
    "+\n",
    "00000\n",
    "=\n",
    "000000000000\n",
    "```"
   ]
  },
  {
   "cell_type": "code",
   "execution_count": 12,
   "metadata": {},
   "outputs": [],
   "source": [
    "#-------------------------#\n",
    "#    Écrire le code ici   #\n",
    "#-------------------------#\n",
    "\n",
    "\n"
   ]
  },
  {
   "cell_type": "markdown",
   "metadata": {
    "deletable": false,
    "editable": false
   },
   "source": [
    "## Exercice 8 : addition binaire***\n",
    "\n",
    "\n",
    "1. Définir la fonction `affiche_binaire` prenant en paramètre un nombre et affichant ce nombre en binaire.\n",
    "2. Définir la fonction `addition_binaire` prenant en paramètre deux nombres et affichant ces deux nombres en base binaire ainsi que leur somme. Par exemple, l'appel de la fonction avec les valeurs 7 et 5 doit donner l'affichage suivant :\n",
    "```\n",
    "111\n",
    "+\n",
    "101\n",
    "=\n",
    "1100\n",
    "```"
   ]
  },
  {
   "cell_type": "code",
   "execution_count": 13,
   "metadata": {},
   "outputs": [],
   "source": [
    "#-------------------------#\n",
    "#    Écrire le code ici   #\n",
    "#-------------------------#\n",
    "\n",
    "\n"
   ]
  }
 ],
 "metadata": {
  "@webio": {
   "lastCommId": "f202ee87e78044d9bb1f2a271467b105",
   "lastKernelId": "a77397e8-2206-4d8e-81f7-b5a4369a0f74"
  },
  "kernelspec": {
   "display_name": "Python 3",
   "language": "python",
   "name": "python3"
  },
  "language_info": {
   "codemirror_mode": {
    "name": "ipython",
    "version": 3
   },
   "file_extension": ".py",
   "mimetype": "text/x-python",
   "name": "python",
   "nbconvert_exporter": "python",
   "pygments_lexer": "ipython3",
   "version": "3.6.8"
  },
  "latex_envs": {
   "LaTeX_envs_menu_present": true,
   "autoclose": false,
   "autocomplete": true,
   "bibliofile": "biblio.bib",
   "cite_by": "apalike",
   "current_citInitial": 1,
   "eqLabelWithNumbers": true,
   "eqNumInitial": 1,
   "hotkeys": {
    "equation": "Ctrl-E",
    "itemize": "Ctrl-I"
   },
   "labels_anchors": false,
   "latex_user_defs": false,
   "report_style_numbering": false,
   "user_envs_cfg": false
  },
  "toc": {
   "base_numbering": 1,
   "nav_menu": {},
   "number_sections": true,
   "sideBar": true,
   "skip_h1_title": true,
   "title_cell": "Table des matières",
   "title_sidebar": "Table des matières",
   "toc_cell": false,
   "toc_position": {},
   "toc_section_display": true,
   "toc_window_display": true
  },
  "varInspector": {
   "cols": {
    "lenName": 16,
    "lenType": 16,
    "lenVar": 40
   },
   "kernels_config": {
    "python": {
     "delete_cmd_postfix": "",
     "delete_cmd_prefix": "del ",
     "library": "var_list.py",
     "varRefreshCmd": "print(var_dic_list())"
    },
    "r": {
     "delete_cmd_postfix": ") ",
     "delete_cmd_prefix": "rm(",
     "library": "var_list.r",
     "varRefreshCmd": "cat(var_dic_list()) "
    }
   },
   "types_to_exclude": [
    "module",
    "function",
    "builtin_function_or_method",
    "instance",
    "_Feature"
   ],
   "window_display": false
  }
 },
 "nbformat": 4,
 "nbformat_minor": 2
}
