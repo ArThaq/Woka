{
 "cells": [
  {
   "cell_type": "markdown",
   "metadata": {
    "collapsed": true
   },
   "source": [
    "# <center>Chapitre 5 : Fonctions (Deuxième partie) - TP</center>"
   ]
  },
  {
   "cell_type": "markdown",
   "metadata": {
    "deletable": false,
    "editable": false,
    "run_control": {
     "frozen": true
    }
   },
   "source": [
    "## Conversion degré Celsius - Fahrenheit"
   ]
  },
  {
   "cell_type": "markdown",
   "metadata": {
    "deletable": false,
    "editable": false,
    "run_control": {
     "frozen": true
    }
   },
   "source": [
    "Le degré Fahrenheit (symbole : °F) est une unité de mesure de la température. La relation entre les échelles Fahrenheit et Celsius est la suivante : \n",
    "\n",
    "$$ T(°F) = \\frac{9}{5} T(°C) + 32$$"
   ]
  },
  {
   "cell_type": "markdown",
   "metadata": {
    "deletable": false,
    "editable": false,
    "run_control": {
     "frozen": true
    }
   },
   "source": [
    "### Question 1\n",
    "\n",
    "Définir la fonction `Celsius2Fahrenheit` prenant en paramètre une température en degré Celsius et retournant cette température en degré Fahrenheit."
   ]
  },
  {
   "cell_type": "code",
   "execution_count": 19,
   "metadata": {},
   "outputs": [],
   "source": [
    "def Celsius2Fahrenheit(cel) :\n",
    "    return cel * 9 / 5 + 32"
   ]
  },
  {
   "cell_type": "markdown",
   "metadata": {
    "deletable": false,
    "editable": false,
    "run_control": {
     "frozen": true
    }
   },
   "source": [
    "### Question 2\n",
    "\n",
    "Définir une fonction de tests unitaires pour la fonction `Celsius2Fahrenheit` et vérifier que votre fonction vérifie les tests."
   ]
  },
  {
   "cell_type": "code",
   "execution_count": 20,
   "metadata": {},
   "outputs": [
    {
     "name": "stdout",
     "output_type": "stream",
     "text": [
      "test de la fonction Celsius2Fahrenheit = ok\n"
     ]
    }
   ],
   "source": [
    "def test_Celsius2Fahrenheit() :\n",
    "    assert Celsius2Fahrenheit(40) == 104.0\n",
    "    assert Celsius2Fahrenheit(-10) == 14.0\n",
    "    print(\"test de la fonction Celsius2Fahrenheit = ok\")\n",
    "    \n",
    "test_Celsius2Fahrenheit()"
   ]
  },
  {
   "cell_type": "markdown",
   "metadata": {
    "deletable": false,
    "editable": false,
    "run_control": {
     "frozen": true
    }
   },
   "source": [
    "### Question 3\n",
    "\n",
    "Définir la fonction `Fahrenheit2Celsius` prenant en paramètre une température en degré Fahrenheit et retournant cette température en degré Celsius."
   ]
  },
  {
   "cell_type": "code",
   "execution_count": 22,
   "metadata": {},
   "outputs": [
    {
     "data": {
      "text/plain": [
       "40.0"
      ]
     },
     "execution_count": 22,
     "metadata": {},
     "output_type": "execute_result"
    }
   ],
   "source": [
    "def Fahrenheit2Celsius(fah) :\n",
    "    return (fah - 32) * 5 / 9"
   ]
  },
  {
   "cell_type": "markdown",
   "metadata": {
    "deletable": false,
    "editable": false,
    "run_control": {
     "frozen": true
    }
   },
   "source": [
    "### Question 4\n",
    "\n",
    "Faire une fonction de tests unitaires de la fonction `Fahrenheit2Celsius`."
   ]
  },
  {
   "cell_type": "code",
   "execution_count": 23,
   "metadata": {},
   "outputs": [
    {
     "name": "stdout",
     "output_type": "stream",
     "text": [
      "test de la fonction Fahrenheit2Celsius = ok\n"
     ]
    }
   ],
   "source": [
    "def test_Fahrenheit2Celsius() :\n",
    "    assert Fahrenheit2Celsius(104) == 40\n",
    "    assert Fahrenheit2Celsius(14) == -10\n",
    "    print(\"test de la fonction Fahrenheit2Celsius = ok\")\n",
    "    \n",
    "test_Fahrenheit2Celsius()"
   ]
  },
  {
   "cell_type": "markdown",
   "metadata": {
    "deletable": false,
    "editable": false,
    "run_control": {
     "frozen": true
    }
   },
   "source": [
    "### Question 5\n",
    "\n",
    "Définir un programme demandant à l'utilisateur de saisir une température ainsi que l'unité (°F ou °C) et affichant cette température dans l'autre unité de mesure.\n",
    "Pour la saisie de l'unité de mesure, on effectuera une saisie répétée jusqu'à ce que l'utilisateur saisisse la lettre 'C' ou la lettre 'F'."
   ]
  },
  {
   "cell_type": "code",
   "execution_count": 31,
   "metadata": {},
   "outputs": [
    {
     "name": "stdout",
     "output_type": "stream",
     "text": [
      "Entrer une température\n",
      "40\n",
      "Entrer une unité : F/C\n",
      "C\n",
      "104.0 °F\n"
     ]
    }
   ],
   "source": [
    "print(\"Entrer une température\")\n",
    "deg = float(input())\n",
    "print(\"Entrer une unité : F/C\")\n",
    "uni = input()\n",
    "while uni != \"F\" and uni != \"C\" :\n",
    "    uni = input()\n",
    "    print(\"Entrer une unité\")\n",
    "if uni == \"F\" :\n",
    "    print(Fahrenheit2Celsius(deg), \"°C\")\n",
    "else :\n",
    "    print(Celsius2Fahrenheit(deg), \"°F\")"
   ]
  },
  {
   "cell_type": "markdown",
   "metadata": {
    "deletable": false,
    "editable": false,
    "run_control": {
     "frozen": true
    }
   },
   "source": [
    "## Exercice 2 : Saisies contrôlées*"
   ]
  },
  {
   "cell_type": "markdown",
   "metadata": {
    "deletable": false,
    "editable": false,
    "run_control": {
     "frozen": true
    }
   },
   "source": [
    "### Question 1\n",
    "\n",
    "Définir la fonction `saisiePosNul` demandant la saisie d'un entier positif ou nul et répétant la saisie jusqu'à ce que ce nombre soit correct. La valeur saisie par l'utilisateur sera retournée. "
   ]
  },
  {
   "cell_type": "code",
   "execution_count": 39,
   "metadata": {},
   "outputs": [
    {
     "name": "stdout",
     "output_type": "stream",
     "text": [
      "Entrer un entier positif ou nul\n",
      "-9\n",
      "Entrer un entier positif ou nul\n",
      "5\n"
     ]
    },
    {
     "data": {
      "text/plain": [
       "5"
      ]
     },
     "execution_count": 39,
     "metadata": {},
     "output_type": "execute_result"
    }
   ],
   "source": [
    "def saisiePosNul() :\n",
    "    print(\"Entrer un entier positif ou nul\")\n",
    "    x = int(input())\n",
    "    while x < 0 :\n",
    "        print(\"Entrer un entier positif ou nul\")\n",
    "        x = int(input())\n",
    "    return x\n",
    "\n",
    "saisiePosNul()"
   ]
  },
  {
   "cell_type": "markdown",
   "metadata": {
    "deletable": false,
    "editable": false,
    "run_control": {
     "frozen": true
    }
   },
   "source": [
    "### Question 2\n",
    "\n",
    "Écrire un programme demandant la saisie (contrôlée à l'aide de la fonction précédente) de deux nombres positifs ou nuls et afficher leur somme."
   ]
  },
  {
   "cell_type": "code",
   "execution_count": 41,
   "metadata": {},
   "outputs": [
    {
     "name": "stdout",
     "output_type": "stream",
     "text": [
      "Entrer un entier positif ou nul\n",
      "-9\n",
      "Entrer un entier positif ou nul\n",
      "-9\n",
      "Entrer un entier positif ou nul\n",
      "-9\n",
      "Entrer un entier positif ou nul\n",
      "6\n",
      "Entrer un entier positif ou nul\n",
      "-7\n",
      "Entrer un entier positif ou nul\n",
      "-7\n",
      "Entrer un entier positif ou nul\n",
      "-3\n",
      "Entrer un entier positif ou nul\n",
      "0\n",
      "6\n"
     ]
    }
   ],
   "source": [
    "a = saisiePosNul()\n",
    "b = saisiePosNul()\n",
    "print(a+b)"
   ]
  },
  {
   "cell_type": "markdown",
   "metadata": {
    "deletable": false,
    "editable": false,
    "run_control": {
     "frozen": true
    }
   },
   "source": [
    "### Question 3\n",
    "\n",
    "Définir la fonction `saisieIntervalle` permettant la saisie d'un entier compris dans un intervalle $[a,b]$ (Par exemple, saisie d'un entier compris entre 10 et 20)  et permettant d'effectuer des saisies jusqu'à ce que ce nombre soit correct. À chaque erreur, la fonction indiquera à l'utilisateur s'il doit saisir un nombre plus petit ou plus grand. \n",
    "\n",
    "**NB :** Les bornes `a`et `b` sont passées en paramètres à la fonction."
   ]
  },
  {
   "cell_type": "code",
   "execution_count": 42,
   "metadata": {},
   "outputs": [
    {
     "name": "stdout",
     "output_type": "stream",
     "text": [
      "Entrer un nombre compris entre  10  et  20\n",
      "5\n",
      "Entrer un nombre plus grand\n",
      "8\n",
      "Entrer un nombre plus grand\n",
      "99\n",
      "Entrer un nombre plus petit\n",
      "-5\n",
      "Entrer un nombre plus grand\n",
      "789984\n",
      "Entrer un nombre plus petit\n",
      "15\n"
     ]
    },
    {
     "data": {
      "text/plain": [
       "15"
      ]
     },
     "execution_count": 42,
     "metadata": {},
     "output_type": "execute_result"
    }
   ],
   "source": [
    "def saisieIntervalle(a, b) :\n",
    "    print(\"Entrer un nombre compris entre \", a, \" et \", b)\n",
    "    x = int(input())\n",
    "    while x < a or x > b :\n",
    "        if x < a :\n",
    "            print(\"Entrer un nombre plus grand\")\n",
    "            x = int(input())\n",
    "        else :\n",
    "            print(\"Entrer un nombre plus petit\")\n",
    "            x = int(input())\n",
    "    return x\n",
    "\n",
    "saisieIntervalle(10, 20)"
   ]
  },
  {
   "cell_type": "markdown",
   "metadata": {
    "deletable": false,
    "editable": false,
    "run_control": {
     "frozen": true
    }
   },
   "source": [
    "### Qestion 4\n",
    "\n",
    "Écrire un programme demandant à l'utilisateur de saisir un entier $n$ compris entre 1 et 3 (saisie contrôlée). Le programme fera alors la saisie de $n$ nombres positifs ou nuls et affichera leur produit. "
   ]
  },
  {
   "cell_type": "code",
   "execution_count": 45,
   "metadata": {},
   "outputs": [
    {
     "name": "stdout",
     "output_type": "stream",
     "text": [
      "Entrer le nombre d'entiers à multiplier\n",
      "9\n",
      "Entrer le nombre d'entiers à multiplier\n",
      "4\n",
      "Entrer le nombre d'entiers à multiplier\n",
      "0\n",
      "Entrer le nombre d'entiers à multiplier\n",
      "3\n",
      "Entrer un entier à ajouter à la multiplication\n",
      "2\n",
      "Entrer un entier à ajouter à la multiplication\n",
      "-3\n",
      "Entrer un entier à ajouter à la multiplication\n",
      "5\n",
      "-30\n"
     ]
    }
   ],
   "source": [
    "n = 0\n",
    "res = 1\n",
    "while n < 1 or n > 3 :\n",
    "    print(\"Entrer le nombre d'entiers à multiplier\")\n",
    "    n = int(input())\n",
    "while n > 0 :\n",
    "    print(\"Entrer un entier à ajouter à la multiplication\")\n",
    "    x = int(input())\n",
    "    res *= x\n",
    "    n -= 1\n",
    "print(res)"
   ]
  },
  {
   "cell_type": "markdown",
   "metadata": {
    "deletable": false,
    "editable": false,
    "run_control": {
     "frozen": true
    }
   },
   "source": [
    "## Exercice 3 : Calcul de $x^n$ quand $n$ est un entier*"
   ]
  },
  {
   "cell_type": "markdown",
   "metadata": {
    "deletable": false,
    "editable": false,
    "run_control": {
     "frozen": true
    }
   },
   "source": [
    "### Question 1\n",
    "\n",
    "Définir la fonction `puissancePos` qui prend en paramètre un nombre $x$ et un entier **positif** $n$ et retourne la valeur $x^n$. Le calcul se fera sans utiliser l'opérateur `**`.\n",
    "\n",
    "**Remarque :** La fonction retournera 0 si l'entier passé en paramètre n'est pas positif."
   ]
  },
  {
   "cell_type": "code",
   "execution_count": 56,
   "metadata": {},
   "outputs": [
    {
     "data": {
      "text/plain": [
       "2"
      ]
     },
     "execution_count": 56,
     "metadata": {},
     "output_type": "execute_result"
    }
   ],
   "source": [
    "def puissancePos(x, n) :\n",
    "    if n < 0 :\n",
    "        return 0\n",
    "    if n == 0 :\n",
    "        return 1\n",
    "    else :\n",
    "        res = x\n",
    "        while n > 1 :\n",
    "            res *= x\n",
    "            n -= 1\n",
    "        return res\n",
    "\n",
    "puissancePos(2, 1)"
   ]
  },
  {
   "cell_type": "markdown",
   "metadata": {
    "deletable": false,
    "editable": false,
    "run_control": {
     "frozen": true
    }
   },
   "source": [
    "### Question 2\n",
    "\n",
    "Vérifier que la fonction satisfait les tests unitaires suivants."
   ]
  },
  {
   "cell_type": "code",
   "execution_count": 57,
   "metadata": {
    "deletable": false,
    "editable": false
   },
   "outputs": [
    {
     "name": "stdout",
     "output_type": "stream",
     "text": [
      "Test de la fonction puissancePos : ok\n"
     ]
    }
   ],
   "source": [
    "import math\n",
    "\n",
    "def test_puissancePos() :\n",
    "    assert math.isclose(puissancePos(2,3), 8)\n",
    "    assert math.isclose(puissancePos(2.5,3), 15.625)\n",
    "    assert math.isclose(puissancePos(-2,3), -8)\n",
    "    assert math.isclose(puissancePos(-2,1), -2)\n",
    "    assert math.isclose(puissancePos(-2,2), 4)\n",
    "    assert math.isclose(puissancePos(34,0), 1)\n",
    "    assert math.isclose(puissancePos(34,1), 34)\n",
    "    assert math.isclose(puissancePos(34,-3), 0)\n",
    "    print(\"Test de la fonction puissancePos : ok\")\n",
    "\n",
    "test_puissancePos()"
   ]
  },
  {
   "cell_type": "markdown",
   "metadata": {
    "deletable": false,
    "editable": false,
    "run_control": {
     "frozen": true
    }
   },
   "source": [
    "### Question 3 \n",
    "\n",
    "Définir la fonction `puissance` qui prend en paramètre un entier $n$ et retourne la valeur $x^n$. \n",
    "\n",
    "**Rappel :** \n",
    "$$x^{-n} = \\frac{1}{x^n}$$"
   ]
  },
  {
   "cell_type": "code",
   "execution_count": 60,
   "metadata": {},
   "outputs": [
    {
     "data": {
      "text/plain": [
       "-8"
      ]
     },
     "execution_count": 60,
     "metadata": {},
     "output_type": "execute_result"
    }
   ],
   "source": [
    "def puissance(x, n) :\n",
    "    if n < 0 :\n",
    "        res = x\n",
    "        while n < -1 :\n",
    "            res *= x\n",
    "            n += 1\n",
    "        return 1/res\n",
    "    if n == 0 :\n",
    "        return 1\n",
    "    else :\n",
    "        res = x\n",
    "        while n > 1 :\n",
    "            res *= x\n",
    "            n -= 1\n",
    "        return res"
   ]
  },
  {
   "cell_type": "markdown",
   "metadata": {
    "deletable": false,
    "editable": false,
    "run_control": {
     "frozen": true
    }
   },
   "source": [
    "### Question 4\n",
    "\n",
    "Vérifier que la fonction `puissance` vérifie les tests unitaires suivants."
   ]
  },
  {
   "cell_type": "code",
   "execution_count": 59,
   "metadata": {
    "deletable": false,
    "editable": false
   },
   "outputs": [
    {
     "name": "stdout",
     "output_type": "stream",
     "text": [
      "Test de la fonction puissancePos : ok\n"
     ]
    }
   ],
   "source": [
    "import math\n",
    "\n",
    "def test_puissancePos() :\n",
    "    assert math.isclose(puissance(2,3), 8)\n",
    "    assert math.isclose(puissance(2.5,3), 15.625)\n",
    "    assert math.isclose(puissance(-2,3), -8)\n",
    "    assert math.isclose(puissance(-2,1), -2)\n",
    "    assert math.isclose(puissance(-2,2), 4)\n",
    "    assert math.isclose(puissance(34,0), 1)\n",
    "    assert math.isclose(puissance(34,1), 34)\n",
    "    assert math.isclose(puissance(15,-2), 1. / 225.)\n",
    "    assert math.isclose(puissance(-15,-2),1. /225.)\n",
    "    assert math.isclose(puissance(-15,-3),-0.0002962962962962963)\n",
    "    print(\"Test de la fonction puissancePos : ok\")\n",
    "\n",
    "test_puissancePos()"
   ]
  },
  {
   "cell_type": "markdown",
   "metadata": {
    "deletable": false,
    "editable": false,
    "run_control": {
     "frozen": true
    }
   },
   "source": [
    "## Exercice 4 : Calcul du PGCD**\n",
    "L'algorithme d'Euclide calculant le plus grand diviseur commun PGCD de deux nombres entiers strictement positifs peut être décrit comme suit : \"tant que les 2 nombres sont différents soustraire le plus petit du plus grand. Une fois égaux, afficher l'un d'eux : c'est le PGCD.\"\n",
    "\n",
    "**Remarque :**  Le PGCD ne dépend pas du signe des nombres passés en paramètre. \n",
    "\n",
    "Par exemple, $PGCD(-5,-3) = PGCD(5,3)$. De plus, $PGCD(0,x) = PGCD(x,0) = x$ pour tout entier $x$.\n",
    "\n",
    "### Question 1 : \n",
    "Faire tourner cet algorithme sur papier avec les entiers 18 et 14."
   ]
  },
  {
   "cell_type": "markdown",
   "metadata": {
    "deletable": false,
    "editable": false,
    "run_control": {
     "frozen": true
    }
   },
   "source": [
    "### Question 2 : \n",
    "Définir la fonction `pgcd` qui calcule et retourne le PGCD de deux arguments entiers."
   ]
  },
  {
   "cell_type": "code",
   "execution_count": 85,
   "metadata": {},
   "outputs": [
    {
     "data": {
      "text/plain": [
       "25"
      ]
     },
     "execution_count": 85,
     "metadata": {},
     "output_type": "execute_result"
    }
   ],
   "source": [
    "def pgcd(a, b) :\n",
    "    if a < 0 :\n",
    "        a = -a\n",
    "    if b < 0 :\n",
    "        b = -b\n",
    "    if a == 0 :\n",
    "        a = b\n",
    "    if b == 0 :\n",
    "        b = a\n",
    "    while a != b :\n",
    "        if a > b :\n",
    "            a -= b\n",
    "        else :\n",
    "            b -= a\n",
    "    return(a)"
   ]
  },
  {
   "cell_type": "markdown",
   "metadata": {
    "deletable": false,
    "editable": false,
    "run_control": {
     "frozen": true
    }
   },
   "source": [
    "### Question 3 :\n",
    "Vérifier que la fonction `pgcd` satisfait les tests unitaires suivants."
   ]
  },
  {
   "cell_type": "code",
   "execution_count": 84,
   "metadata": {
    "deletable": false,
    "editable": false
   },
   "outputs": [
    {
     "name": "stdout",
     "output_type": "stream",
     "text": [
      "Test de la fonction pgcd : ok\n"
     ]
    }
   ],
   "source": [
    "def test_pgcd() :\n",
    "    assert pgcd(8,14) == 2\n",
    "    assert pgcd(-8,-14) == 2\n",
    "    assert pgcd(8,-14) == 2\n",
    "    assert pgcd(-8,14) == 2\n",
    "    assert pgcd(25, 100) == 25\n",
    "    assert pgcd(100, 20) == 20\n",
    "    assert pgcd(23, 14) == 1    \n",
    "    assert pgcd(25, 0) == 25\n",
    "    assert pgcd(0, 100) == 100\n",
    "    print(\"Test de la fonction pgcd : ok\")\n",
    "\n",
    "# algorithme principal\n",
    "test_pgcd()"
   ]
  },
  {
   "cell_type": "markdown",
   "metadata": {
    "deletable": false,
    "editable": false,
    "run_control": {
     "frozen": true
    }
   },
   "source": [
    "## Exercice 5 : Calcul d'intégrale à l'aide de la méthode des trapèzes***"
   ]
  },
  {
   "cell_type": "markdown",
   "metadata": {
    "deletable": false,
    "editable": false,
    "run_control": {
     "frozen": true
    }
   },
   "source": [
    "### Question 1\n",
    "\n",
    "Définir la fonction `trapeze` calculant l'aire d'un trapèze. :\n",
    "\n",
    "**Rappel :** un trapèze est un quadrilatère avec deux côtés parallèles appelés *grande base* et *petite base*. La *hauteur* d'un trapèze est la distance entre les deux bases. L'aire d'un trapèze est donnée par :\n",
    "$$ \\frac{(B + b)}{2} * h$$\n",
    "où :\n",
    "* $B$ est la longueur de la grande base,\n",
    "* $b$ est la longueur de la petite base,\n",
    "* $h$ est la hauteur du trapèze."
   ]
  },
  {
   "cell_type": "code",
   "execution_count": 86,
   "metadata": {},
   "outputs": [
    {
     "data": {
      "text/plain": [
       "343.0"
      ]
     },
     "execution_count": 86,
     "metadata": {},
     "output_type": "execute_result"
    }
   ],
   "source": [
    "def trapeze(B, b, h) :\n",
    "    return (B + b)/ 2 * h"
   ]
  },
  {
   "cell_type": "markdown",
   "metadata": {
    "deletable": false,
    "editable": false,
    "run_control": {
     "frozen": true
    }
   },
   "source": [
    "### Question 2 \n",
    "\n",
    "L'intégrale d'une fonction continue $f(x)$ sur un intervalle $[a,b]$ correspond à l'aire délimitée par $f(x)$ et les  droites d'équation $x = a$, $x = b$ et $y = 0$ (c.f. [wikipedia](https://fr.wikipedia.org/wiki/Int%C3%A9gration_(math%C3%A9matiques)#/media/Fichier:Aire_sous_la_courbe.svg) pour plus d'information).\n",
    "\n",
    "On souhaite calculer l'intégrale d'un fonction $f(x)$ sur un intervalle $[a,b]$ en utilisant la méthode des trapèzes. Cette méthode consiste à découper l'intervalle $[a,b]$ en segments de même taille $h$ appelés pas. On approxime alors l'aire entre chaque segment et la courbe comme l'aire d'un trapèze (voir [figure](https://fr.wikipedia.org/wiki/Int%C3%A9gration_(math%C3%A9matiques)#/media/Fichier:Integration_num_trapezes_notation.svg)).\n",
    "\n",
    "\n",
    "1. Définir la fonction `f` prenant en paramètre une valeur $x$ et retournant la valeur de la fonction $f(x)$ que l'on souhaite intégrer. On peut prendre par exemple la fonction $f(x) = x^3$.\n",
    "\n",
    "2. Définir ensuite la fonction `integrale` prenant en paramètre les limites de l'intervalle `a` et `b` ainsi que le nombre de segments utilisés pour le calcul de l'intégrale. \n",
    "\n",
    "3. Vérifier que l'intégrale de la fonction fonction cube l'intervalle \n",
    "$[2.5,5.6]$ est d'environ 236.0967750. Faire variable le nombre de segments utilisés pour le calcul de 10 en 10 (de 10 à 1 million)."
   ]
  },
  {
   "cell_type": "code",
   "execution_count": 87,
   "metadata": {},
   "outputs": [],
   "source": [
    "def f(x) :\n",
    "    return x*x*x\n",
    "\n",
    "def integrale(a, b, s) :\n",
    "    i = 1\n",
    "    while s < i :\n",
    "        f(1)"
   ]
  }
 ],
 "metadata": {
  "@webio": {
   "lastCommId": "68509a17f96946738fa96938613d0f93",
   "lastKernelId": "2f15dd1c-78d7-4076-8124-56140ba22f06"
  },
  "kernelspec": {
   "display_name": "Python 3",
   "language": "python",
   "name": "python3"
  },
  "language_info": {
   "codemirror_mode": {
    "name": "ipython",
    "version": 3
   },
   "file_extension": ".py",
   "mimetype": "text/x-python",
   "name": "python",
   "nbconvert_exporter": "python",
   "pygments_lexer": "ipython3",
   "version": "3.8.3"
  },
  "toc": {
   "base_numbering": 1,
   "nav_menu": {},
   "number_sections": true,
   "sideBar": true,
   "skip_h1_title": true,
   "title_cell": "Table des matières",
   "title_sidebar": "Table des matières",
   "toc_cell": false,
   "toc_position": {},
   "toc_section_display": true,
   "toc_window_display": true
  },
  "varInspector": {
   "cols": {
    "lenName": 16,
    "lenType": 16,
    "lenVar": 40
   },
   "kernels_config": {
    "python": {
     "delete_cmd_postfix": "",
     "delete_cmd_prefix": "del ",
     "library": "var_list.py",
     "varRefreshCmd": "print(var_dic_list())"
    },
    "r": {
     "delete_cmd_postfix": ") ",
     "delete_cmd_prefix": "rm(",
     "library": "var_list.r",
     "varRefreshCmd": "cat(var_dic_list()) "
    }
   },
   "types_to_exclude": [
    "module",
    "function",
    "builtin_function_or_method",
    "instance",
    "_Feature"
   ],
   "window_display": false
  }
 },
 "nbformat": 4,
 "nbformat_minor": 2
}
